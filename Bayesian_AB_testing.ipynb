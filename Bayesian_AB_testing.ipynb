{
 "cells": [
  {
   "cell_type": "markdown",
   "metadata": {},
   "source": [
    "# AB testing\n",
    "#### Initially, the excel page of AB testing data is stored as csv file of ABtest.csv. Then, the dataset is aggregated for Control and Test groups. The Daily Visitors and Total Enquiries are selected as visit and converted respectively. So, the conversion is enquiry/visit."
   ]
  },
  {
   "cell_type": "markdown",
   "metadata": {},
   "source": [
    "#### My approach for AB testing is using stochastic modelling and particularly, using Markov chain Monte Carlo (MCMC) simulation to calculate the posterior probability of A and B conversion."
   ]
  },
  {
   "cell_type": "code",
   "execution_count": 24,
   "metadata": {},
   "outputs": [],
   "source": [
    "import pandas as pd\n",
    "import numpy as np\n",
    "from scipy.stats import chi2_contingency\n",
    "import matplotlib.pyplot as plt\n",
    "from scipy.stats import beta\n",
    "import math"
   ]
  },
  {
   "cell_type": "code",
   "execution_count": 25,
   "metadata": {},
   "outputs": [],
   "source": [
    "AB = pd.read_csv(\"ABtest.csv\")"
   ]
  },
  {
   "cell_type": "code",
   "execution_count": 26,
   "metadata": {},
   "outputs": [
    {
     "data": {
      "text/html": [
       "<div>\n",
       "<style scoped>\n",
       "    .dataframe tbody tr th:only-of-type {\n",
       "        vertical-align: middle;\n",
       "    }\n",
       "\n",
       "    .dataframe tbody tr th {\n",
       "        vertical-align: top;\n",
       "    }\n",
       "\n",
       "    .dataframe thead th {\n",
       "        text-align: right;\n",
       "    }\n",
       "</style>\n",
       "<table border=\"1\" class=\"dataframe\">\n",
       "  <thead>\n",
       "    <tr style=\"text-align: right;\">\n",
       "      <th></th>\n",
       "      <th>Time Period</th>\n",
       "      <th>Segment</th>\n",
       "      <th>Total Enquiries</th>\n",
       "      <th>Private Enquiries</th>\n",
       "      <th>Used Enquiries</th>\n",
       "      <th>BNCIS Enquiries</th>\n",
       "      <th>New Enquiries</th>\n",
       "      <th>Demo Enquiries</th>\n",
       "      <th>Dealer Enquiries</th>\n",
       "      <th>Visits</th>\n",
       "      <th>Daily Visitors</th>\n",
       "    </tr>\n",
       "  </thead>\n",
       "  <tbody>\n",
       "    <tr>\n",
       "      <th>0</th>\n",
       "      <td>8/18/2016</td>\n",
       "      <td>Control</td>\n",
       "      <td>2545.0</td>\n",
       "      <td>1202.0</td>\n",
       "      <td>1134.0</td>\n",
       "      <td>62.0</td>\n",
       "      <td>9.0</td>\n",
       "      <td>107.0</td>\n",
       "      <td>1343.0</td>\n",
       "      <td>84827.0</td>\n",
       "      <td>57648</td>\n",
       "    </tr>\n",
       "    <tr>\n",
       "      <th>1</th>\n",
       "      <td>8/18/2016</td>\n",
       "      <td>Test</td>\n",
       "      <td>143.0</td>\n",
       "      <td>73.0</td>\n",
       "      <td>55.0</td>\n",
       "      <td>4.0</td>\n",
       "      <td>0.0</td>\n",
       "      <td>11.0</td>\n",
       "      <td>70.0</td>\n",
       "      <td>5088.0</td>\n",
       "      <td>3375</td>\n",
       "    </tr>\n",
       "    <tr>\n",
       "      <th>2</th>\n",
       "      <td>8/19/2016</td>\n",
       "      <td>Control</td>\n",
       "      <td>4228.0</td>\n",
       "      <td>1966.0</td>\n",
       "      <td>1907.0</td>\n",
       "      <td>98.0</td>\n",
       "      <td>1.0</td>\n",
       "      <td>220.0</td>\n",
       "      <td>2261.0</td>\n",
       "      <td>133868.0</td>\n",
       "      <td>94289</td>\n",
       "    </tr>\n",
       "    <tr>\n",
       "      <th>3</th>\n",
       "      <td>8/19/2016</td>\n",
       "      <td>Test</td>\n",
       "      <td>252.0</td>\n",
       "      <td>129.0</td>\n",
       "      <td>111.0</td>\n",
       "      <td>1.0</td>\n",
       "      <td>0.0</td>\n",
       "      <td>8.0</td>\n",
       "      <td>123.0</td>\n",
       "      <td>7965.0</td>\n",
       "      <td>5511</td>\n",
       "    </tr>\n",
       "    <tr>\n",
       "      <th>4</th>\n",
       "      <td>8/20/2016</td>\n",
       "      <td>Control</td>\n",
       "      <td>3940.0</td>\n",
       "      <td>1805.0</td>\n",
       "      <td>1839.0</td>\n",
       "      <td>95.0</td>\n",
       "      <td>16.0</td>\n",
       "      <td>154.0</td>\n",
       "      <td>2133.0</td>\n",
       "      <td>121742.0</td>\n",
       "      <td>84459</td>\n",
       "    </tr>\n",
       "  </tbody>\n",
       "</table>\n",
       "</div>"
      ],
      "text/plain": [
       "  Time Period   Segment  Total Enquiries  Private Enquiries  Used Enquiries  \\\n",
       "0   8/18/2016  Control            2545.0             1202.0          1134.0   \n",
       "1   8/18/2016      Test            143.0               73.0            55.0   \n",
       "2   8/19/2016  Control            4228.0             1966.0          1907.0   \n",
       "3   8/19/2016      Test            252.0              129.0           111.0   \n",
       "4   8/20/2016  Control            3940.0             1805.0          1839.0   \n",
       "\n",
       "   BNCIS Enquiries  New Enquiries  Demo Enquiries  Dealer Enquiries    Visits  \\\n",
       "0             62.0            9.0           107.0            1343.0   84827.0   \n",
       "1              4.0            0.0            11.0              70.0    5088.0   \n",
       "2             98.0            1.0           220.0            2261.0  133868.0   \n",
       "3              1.0            0.0             8.0             123.0    7965.0   \n",
       "4             95.0           16.0           154.0            2133.0  121742.0   \n",
       "\n",
       "   Daily Visitors  \n",
       "0           57648  \n",
       "1            3375  \n",
       "2           94289  \n",
       "3            5511  \n",
       "4           84459  "
      ]
     },
     "execution_count": 26,
     "metadata": {},
     "output_type": "execute_result"
    }
   ],
   "source": [
    "AB.head()"
   ]
  },
  {
   "cell_type": "code",
   "execution_count": 27,
   "metadata": {},
   "outputs": [
    {
     "data": {
      "text/html": [
       "<div>\n",
       "<style scoped>\n",
       "    .dataframe tbody tr th:only-of-type {\n",
       "        vertical-align: middle;\n",
       "    }\n",
       "\n",
       "    .dataframe tbody tr th {\n",
       "        vertical-align: top;\n",
       "    }\n",
       "\n",
       "    .dataframe thead th {\n",
       "        text-align: right;\n",
       "    }\n",
       "</style>\n",
       "<table border=\"1\" class=\"dataframe\">\n",
       "  <thead>\n",
       "    <tr style=\"text-align: right;\">\n",
       "      <th></th>\n",
       "      <th>Total Enquiries</th>\n",
       "      <th>Private Enquiries</th>\n",
       "      <th>Used Enquiries</th>\n",
       "      <th>BNCIS Enquiries</th>\n",
       "      <th>New Enquiries</th>\n",
       "      <th>Demo Enquiries</th>\n",
       "      <th>Dealer Enquiries</th>\n",
       "      <th>Visits</th>\n",
       "      <th>Daily Visitors</th>\n",
       "    </tr>\n",
       "    <tr>\n",
       "      <th>Segment</th>\n",
       "      <th></th>\n",
       "      <th></th>\n",
       "      <th></th>\n",
       "      <th></th>\n",
       "      <th></th>\n",
       "      <th></th>\n",
       "      <th></th>\n",
       "      <th></th>\n",
       "      <th></th>\n",
       "    </tr>\n",
       "  </thead>\n",
       "  <tbody>\n",
       "    <tr>\n",
       "      <th>Control</th>\n",
       "      <td>192125.0</td>\n",
       "      <td>91641.0</td>\n",
       "      <td>85592.0</td>\n",
       "      <td>3859.0</td>\n",
       "      <td>420.0</td>\n",
       "      <td>8920.0</td>\n",
       "      <td>100434.0</td>\n",
       "      <td>6182861.0</td>\n",
       "      <td>4421346</td>\n",
       "    </tr>\n",
       "    <tr>\n",
       "      <th>Test</th>\n",
       "      <td>11308.0</td>\n",
       "      <td>5705.0</td>\n",
       "      <td>4809.0</td>\n",
       "      <td>192.0</td>\n",
       "      <td>27.0</td>\n",
       "      <td>473.0</td>\n",
       "      <td>5601.0</td>\n",
       "      <td>353830.0</td>\n",
       "      <td>250864</td>\n",
       "    </tr>\n",
       "  </tbody>\n",
       "</table>\n",
       "</div>"
      ],
      "text/plain": [
       "          Total Enquiries  Private Enquiries  Used Enquiries  BNCIS Enquiries  \\\n",
       "Segment                                                                         \n",
       "Control          192125.0            91641.0         85592.0           3859.0   \n",
       "Test              11308.0             5705.0          4809.0            192.0   \n",
       "\n",
       "          New Enquiries  Demo Enquiries  Dealer Enquiries     Visits  \\\n",
       "Segment                                                                \n",
       "Control           420.0          8920.0          100434.0  6182861.0   \n",
       "Test               27.0           473.0            5601.0   353830.0   \n",
       "\n",
       "          Daily Visitors  \n",
       "Segment                   \n",
       "Control          4421346  \n",
       "Test              250864  "
      ]
     },
     "execution_count": 27,
     "metadata": {},
     "output_type": "execute_result"
    }
   ],
   "source": [
    "AB2 =AB.groupby(AB['Segment']).sum()\n",
    "AB2.head()"
   ]
  },
  {
   "cell_type": "markdown",
   "metadata": {},
   "source": [
    "Allocating the visit and success (enquiry)for both control(T0) and test (T1)"
   ]
  },
  {
   "cell_type": "code",
   "execution_count": 28,
   "metadata": {},
   "outputs": [],
   "source": [
    "T0_visit=AB2.loc[\"Control \", 'Daily Visitors']\n",
    "T0_succ=AB2.loc[\"Control \", 'Total Enquiries'] \n",
    "T1_visit=AB2.loc[\"Test\", 'Daily Visitors']\n",
    "T1_succ=AB2.loc[\"Test\", 'Total Enquiries']"
   ]
  },
  {
   "cell_type": "markdown",
   "metadata": {},
   "source": [
    "##### function to calculate the posterior probability of Bayesian statistics. "
   ]
  },
  {
   "cell_type": "code",
   "execution_count": 29,
   "metadata": {},
   "outputs": [],
   "source": [
    "# function to calculate the posterior probability of Bayesian statistics\n",
    "def generate_beta_posteriors(conversions,\n",
    "                             visits,\n",
    "                             alpha_prior=1,\n",
    "                             beta_prior=1,\n",
    "                             n_samples=10000):\n",
    "    observations = beta(alpha_prior + conversions,beta_prior + visits - conversions)\n",
    "    posterior_samples = observations.rvs(n_samples)\n",
    "    return posterior_samples"
   ]
  },
  {
   "cell_type": "markdown",
   "metadata": {},
   "source": [
    "## The prior of alpha and beta is assumed 1. It means there is no data before this analysis. However, for the next AB testing, the priors of the alpha and beta for control segment could be previous Visit and Enquiry of Control segment.\n"
   ]
  },
  {
   "cell_type": "markdown",
   "metadata": {},
   "source": [
    " Below function Computes highest density interval from a sample of representative values,\n",
    "    estimated as the shortest credible interval\n",
    "    Takes Arguments posterior_samples (samples from posterior) and credible\n",
    "    mass (normally .95)"
   ]
  },
  {
   "cell_type": "code",
   "execution_count": 30,
   "metadata": {},
   "outputs": [],
   "source": [
    "def HDI_from_MCMC(posterior_samples, credible_mass=0.95):\n",
    "    # Computes highest density interval from a sample of representative values,\n",
    "    # estimated as the shortest credible interval\n",
    "    # Takes Arguments posterior_samples (samples from posterior) and credible\n",
    "    # mass (normally .95)\n",
    "    sorted_points = np.sort(posterior_samples)\n",
    "    ciIdxInc = np.ceil(credible_mass * len(sorted_points)).astype('int')\n",
    "    nCIs = len(sorted_points) - ciIdxInc\n",
    "    ciWidth = [0] * nCIs\n",
    "    for i in range(0, nCIs):\n",
    "        ciWidth[i] = sorted_points[i + ciIdxInc] - sorted_points[i]\n",
    "    HDImin = sorted_points[ciWidth.index(min(ciWidth))]\n",
    "    HDImax = sorted_points[ciWidth.index(min(ciWidth)) + ciIdxInc]\n",
    "    return(HDImin, HDImax)\n"
   ]
  },
  {
   "cell_type": "markdown",
   "metadata": {},
   "source": [
    "Calculating contingency table"
   ]
  },
  {
   "cell_type": "code",
   "execution_count": 31,
   "metadata": {},
   "outputs": [
    {
     "name": "stdout",
     "output_type": "stream",
     "text": [
      "14.962867621478273 0.00010964774257198448 1 [[ 192510.11423245   10922.88576755]\n",
      " [4228835.88576755  239941.11423245]]\n"
     ]
    }
   ],
   "source": [
    "table = [[T0_succ,T1_succ],[(T0_visit-T0_succ), (T1_visit-T1_succ)]]\n",
    "stat, p, dof, expected = chi2_contingency(table, correction=True)\n",
    "print(stat, p, dof, expected )"
   ]
  },
  {
   "cell_type": "markdown",
   "metadata": {},
   "source": [
    "#### calculate the probability that conversion rate of Test group is better than that of Control group."
   ]
  },
  {
   "cell_type": "code",
   "execution_count": 32,
   "metadata": {},
   "outputs": [
    {
     "name": "stdout",
     "output_type": "stream",
     "text": [
      "100.0\n"
     ]
    }
   ],
   "source": [
    "Bayespost_T0=generate_beta_posteriors(T0_succ,T0_visit,alpha_prior=1,beta_prior=1,n_samples=10000)\n",
    "Bayespost_T1=generate_beta_posteriors(T1_succ,T1_visit ,alpha_prior=1,beta_prior=1,n_samples=10000)\n",
    "pd = '{0:3.1f}'.format(100 * (Bayespost_T1> Bayespost_T0).mean())\n",
    "print(pd)"
   ]
  },
  {
   "cell_type": "markdown",
   "metadata": {},
   "source": [
    "#### calculate the range of conversion difference between Test and Control group."
   ]
  },
  {
   "cell_type": "code",
   "execution_count": 33,
   "metadata": {},
   "outputs": [
    {
     "name": "stdout",
     "output_type": "stream",
     "text": [
      "Mean, upper and lower difference between test and control is:  0.0016217581672343833 0.0008120825099147203 0.0024793442312759442\n"
     ]
    }
   ],
   "source": [
    "difference=Bayespost_T1-Bayespost_T0\n",
    "#get the mean of the difference\n",
    "average=np.mean(difference)\n",
    "#now get thelower and upper bounds of the 95% HDP\n",
    "a=HDI_from_MCMC(difference)\n",
    "lower=a[0]\n",
    "upper=a[1]\n",
    "print('Mean, upper and lower difference between test and control is: ', average,lower,upper)"
   ]
  },
  {
   "cell_type": "code",
   "execution_count": 34,
   "metadata": {},
   "outputs": [
    {
     "name": "stdout",
     "output_type": "stream",
     "text": [
      "There is a probablity of 100.0% that Test option lift Conversion Rate by 3.73% .\n"
     ]
    }
   ],
   "source": [
    "a=100*(Bayespost_T1.mean()-Bayespost_T0.mean())/Bayespost_T0.mean()\n",
    "b=\"%.2f\" % a\n",
    "print (f\"There is a probablity of {pd}% that Test option lift Conversion Rate by {b}% .\")"
   ]
  },
  {
   "cell_type": "markdown",
   "metadata": {},
   "source": [
    "#### Drawing the posterior distribution of Control and Test conversions."
   ]
  },
  {
   "cell_type": "code",
   "execution_count": 35,
   "metadata": {},
   "outputs": [
    {
     "data": {
      "image/png": "[encoded data removed]",
      "text/plain": [
       "<Figure size 432x288 with 1 Axes>"
      ]
     },
     "metadata": {
      "needs_background": "light"
     },
     "output_type": "display_data"
    }
   ],
   "source": [
    "fig = plt.figure()\n",
    "x,bins,p=plt.hist(Bayespost_T0,bins=200, alpha=0.8, color='B',density=1);\n",
    "y,ybin,py=plt.hist(Bayespost_T1,bins=200, alpha=0.8, color='G',density=1);\n",
    "fig.suptitle('Posterior distribution of Control (Blue) and Test (green) conversion')\n",
    "plt.xlabel('Conversion')\n",
    "plt.ylabel('samples')\n",
    "plt.savefig('Posterior distributions.png',bbox_inches='tight')"
   ]
  },
  {
   "cell_type": "markdown",
   "metadata": {},
   "source": [
    "As you can see, there is almost no overlap between cntrol (blue left hand) and test (green right hand).In case of overlap, the Analyst, according to the probability, can decide whether the test conversion is still better than the control conversion. Here, the above probability is 100%. "
   ]
  }
 ],
 "metadata": {
  "kernelspec": {
   "display_name": "Python 3",
   "language": "python",
   "name": "python3"
  },
  "language_info": {
   "codemirror_mode": {
    "name": "ipython",
    "version": 3
   },
   "file_extension": ".py",
   "mimetype": "text/x-python",
   "name": "python",
   "nbconvert_exporter": "python",
   "pygments_lexer": "ipython3",
   "version": "3.7.1"
  }
 },
 "nbformat": 4,
 "nbformat_minor": 2
}
